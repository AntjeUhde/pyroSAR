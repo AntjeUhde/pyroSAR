{
 "cells": [
  {
   "cell_type": "markdown",
   "metadata": {},
   "source": [
    "# pyroSAR with PostgreSQL \n",
    "## Geo 419, Task 8\n",
    "### Markus Zehner, 182557\n",
    "### Supervisor: John Truckenbrodt\n",
    "\n",
    "This is a quick overview on how to use the PostgreSQL functionality.\n",
    "It requires a running Postgres Server, including the PostGIS extension, following the test_drivers.py."
   ]
  },
  {
   "cell_type": "code",
   "execution_count": 1,
   "metadata": {},
   "outputs": [],
   "source": [
    "from pyroSAR import Archive, finder, identify\n",
    "from spatialist import Vector\n",
    "import os"
   ]
  },
  {
   "cell_type": "code",
   "execution_count": 2,
   "metadata": {},
   "outputs": [
    {
     "name": "stdout",
     "output_type": "stream",
     "text": [
      "Create a Postgres archive, with postgres arg set to True at port 8080\n",
      "checking for missing scenes..done\n"
     ]
    },
    {
     "name": "stderr",
     "output_type": "stream",
     "text": [
      "100% (2 of 2) |##########################| Elapsed Time: 0:00:00 Time:  0:00:00\n"
     ]
    },
    {
     "name": "stdout",
     "output_type": "stream",
     "text": [
      "Insert the testscenes\n",
      "2 scenes registered regularly\n",
      "0 duplicates registered\n",
      "Get tablenames from the database\n",
      "['data', 'duplicates'] \n",
      "\n",
      "Get columnnames from the data table\n",
      "['acquisition_mode', 'bbox', 'cycleNumber', 'frameNumber', 'hh', 'hv', 'lines', 'orbit', 'orbitNumber_abs', 'orbitNumber_rel', 'outname_base', 'product', 'samples', 'scene', 'sensor', 'start', 'stop', 'vh', 'vv'] \n",
      "\n",
      "Check if first scene is registered in the database\n",
      "True \n",
      "\n",
      "Get all unique directories within the database\n",
      "['/Users/markuszehner/PycharmProjects/pyroSAR/pyroSAR/tests/data'] \n",
      "\n",
      "Get all duplicates registered within the database (none)\n",
      "[] \n",
      "\n",
      "Select from duplicates registered within the database (none)\n",
      "[] \n",
      "\n",
      "Select from data scenes registered within 01.01.2014 - 01.01.2020\n",
      "['/Users/markuszehner/PycharmProjects/pyroSAR/pyroSAR/tests/data/S1A_IW_GRDH_1SDV_20150222T170725_20150222T170750_004739_005DD8_CEAB.zip', '/Users/markuszehner/PycharmProjects/pyroSAR/pyroSAR/tests/data/S1A_IW_GRDH_1SDV_20150222T170750_20150222T170815_004739_005DD8_3768.zip'] \n",
      "\n",
      "Select from data scenes registered with polarization \"VV\"\n",
      "['/Users/markuszehner/PycharmProjects/pyroSAR/pyroSAR/tests/data/S1A_IW_GRDH_1SDV_20150222T170725_20150222T170750_004739_005DD8_CEAB.zip', '/Users/markuszehner/PycharmProjects/pyroSAR/pyroSAR/tests/data/S1A_IW_GRDH_1SDV_20150222T170750_20150222T170815_004739_005DD8_3768.zip'] \n",
      "\n",
      "Select from data scenes registered with intersecting bounding box of scene 1\n",
      "['/Users/markuszehner/PycharmProjects/pyroSAR/pyroSAR/tests/data/S1A_IW_GRDH_1SDV_20150222T170725_20150222T170750_004739_005DD8_CEAB.zip', '/Users/markuszehner/PycharmProjects/pyroSAR/pyroSAR/tests/data/S1A_IW_GRDH_1SDV_20150222T170750_20150222T170815_004739_005DD8_3768.zip'] \n",
      "\n",
      "Select from data scenes registered with polarization \"VV\" and aquisition mode \"IW\" or \"EW\"\n",
      "['/Users/markuszehner/PycharmProjects/pyroSAR/pyroSAR/tests/data/S1A_IW_GRDH_1SDV_20150222T170725_20150222T170750_004739_005DD8_CEAB.zip', '/Users/markuszehner/PycharmProjects/pyroSAR/pyroSAR/tests/data/S1A_IW_GRDH_1SDV_20150222T170750_20150222T170815_004739_005DD8_3768.zip'] \n",
      "\n",
      "Get size of the database (nr. of columns in tables data and duplicates)\n",
      "checking for missing scenes..done\n",
      "(2, 0) \n",
      "\n",
      "Get nr. of features in the exported shapefile (=nr. of scenes in table data)\n",
      "2 \n",
      "\n",
      "Database dropped\n",
      "Note that drop_database will result in some warnings.\n"
     ]
    }
   ],
   "source": [
    "# Find all Scenes in a given directory (used the test files, which only contain metadata)\n",
    "archive_s1 = 'pyroSAR/tests/data/'\n",
    "scenes_s1 = finder(archive_s1, [r'^S1[AB].*\\.zip'], regex=True, recursive=False)\n",
    "id = identify(scenes_s1[0])\n",
    "\n",
    "print('Create a Postgres archive, with postgres arg set to True at port 8080')\n",
    "db = Archive(dbfile='testjup', postgres=True, port = 8080)\n",
    "\n",
    "print('Insert the testscenes')\n",
    "db.insert(scenes_s1)\n",
    "\n",
    "print('Get tablenames from the database')\n",
    "print(db.get_tablenames(), '\\n')\n",
    "\n",
    "print('Get columnnames from the data table')\n",
    "print(db.get_colnames(), '\\n')\n",
    "\n",
    "print('Check if first scene is registered in the database')\n",
    "print(db.is_registered(scenes_s1[0]), '\\n')\n",
    "\n",
    "print('Get all unique directories within the database')\n",
    "print(db.get_unique_directories(), '\\n')\n",
    "\n",
    "print('Get all duplicates registered within the database (none)')\n",
    "print(db.select_duplicates(), '\\n')\n",
    "\n",
    "print('Select from duplicates registered within the database (none)')\n",
    "print(db.select_duplicates(outname_base='S1A__IW___A_20150222T170750', scene='scene.zip'), '\\n')\n",
    "\n",
    "print('Select from data scenes registered within 01.01.2014 - 01.01.2020')\n",
    "print(db.select(mindate='20141001T192312', maxdate='20201001T192312'), '\\n')\n",
    "\n",
    "print('Select from data scenes registered with polarization \"VV\"')\n",
    "print(db.select(polarizations=['VV']), '\\n')\n",
    "\n",
    "print('Select from data scenes registered with intersecting bounding box of scene 1')\n",
    "print(db.select(vectorobject=id.bbox()), '\\n')\n",
    "\n",
    "print('Select from data scenes registered with polarization \"VV\" and aquisition mode \"IW\" or \"EW\"')\n",
    "out = db.select(vv=1, acquisition_mode=('IW', 'EW'))\n",
    "print(out, '\\n')\n",
    "\n",
    "print('Get size of the database (nr. of columns in tables data and duplicates)')\n",
    "with Archive(dbfile='testjup', postgres=True, port = 8080) as db:\n",
    "    print(db.size, '\\n')\n",
    "    shp = 'pyroSAR/tests/data/db.shp'\n",
    "    db.export2shp(shp)\n",
    "    \n",
    "print('Get nr. of features in the exported shapefile (=nr. of scenes in table data)')\n",
    "print(Vector(shp).nfeatures, '\\n')\n",
    "db.drop_database()\n",
    "print('Note that drop_database will result in some warnings.')"
   ]
  },
  {
   "cell_type": "markdown",
   "metadata": {},
   "source": [
    "If you only provide a name.db, a SpatiaLite db will be created. "
   ]
  },
  {
   "cell_type": "code",
   "execution_count": 3,
   "metadata": {},
   "outputs": [
    {
     "name": "stderr",
     "output_type": "stream",
     "text": [
      "Exception during reset or similar\n",
      "Traceback (most recent call last):\n",
      "  File \"/Users/markuszehner/miniconda3/envs/gdal_test_working/lib/python3.7/site-packages/sqlalchemy/pool/base.py\", line 680, in _finalize_fairy\n",
      "    fairy._reset(pool)\n",
      "  File \"/Users/markuszehner/miniconda3/envs/gdal_test_working/lib/python3.7/site-packages/sqlalchemy/pool/base.py\", line 867, in _reset\n",
      "    pool._dialect.do_rollback(self)\n",
      "  File \"/Users/markuszehner/miniconda3/envs/gdal_test_working/lib/python3.7/site-packages/sqlalchemy/engine/default.py\", line 531, in do_rollback\n",
      "    dbapi_connection.rollback()\n",
      "psycopg2.errors.AdminShutdown: terminating connection due to administrator command\n",
      "server closed the connection unexpectedly\n",
      "\tThis probably means the server terminated abnormally\n",
      "\tbefore or while processing the request.\n",
      "\n"
     ]
    },
    {
     "name": "stdout",
     "output_type": "stream",
     "text": [
      "The warnings above are created by the drop_database function.\n",
      "Create a Spatialite archive at the given directory\n",
      "checking for missing scenes..done\n"
     ]
    },
    {
     "name": "stderr",
     "output_type": "stream",
     "text": [
      "100% (2 of 2) |##########################| Elapsed Time: 0:00:00 Time:  0:00:00\n"
     ]
    },
    {
     "name": "stdout",
     "output_type": "stream",
     "text": [
      "Insert the testscenes\n",
      "2 scenes registered regularly\n",
      "0 duplicates registered\n",
      "Get tablenames from the database\n",
      "['data', 'duplicates'] \n",
      "\n",
      "Get columnnames from the data table\n",
      "['acquisition_mode', 'bbox', 'cycleNumber', 'frameNumber', 'hh', 'hv', 'lines', 'orbit', 'orbitNumber_abs', 'orbitNumber_rel', 'outname_base', 'product', 'samples', 'scene', 'sensor', 'start', 'stop', 'vh', 'vv'] \n",
      "\n",
      "Check if first scene is registered in the database\n",
      "True \n",
      "\n",
      "Get all unique directories within the database\n",
      "['/Users/markuszehner/PycharmProjects/pyroSAR/pyroSAR/tests/data'] \n",
      "\n",
      "Get all duplicates registered within the database (none)\n",
      "[] \n",
      "\n",
      "Select from duplicates registered within the database (none)\n",
      "[] \n",
      "\n",
      "Select from data scenes registered within 01.01.2014 - 01.01.2020\n",
      "['/Users/markuszehner/PycharmProjects/pyroSAR/pyroSAR/tests/data/S1A_IW_GRDH_1SDV_20150222T170725_20150222T170750_004739_005DD8_CEAB.zip', '/Users/markuszehner/PycharmProjects/pyroSAR/pyroSAR/tests/data/S1A_IW_GRDH_1SDV_20150222T170750_20150222T170815_004739_005DD8_3768.zip'] \n",
      "\n",
      "Select from data scenes registered with polarization \"VV\"\n",
      "['/Users/markuszehner/PycharmProjects/pyroSAR/pyroSAR/tests/data/S1A_IW_GRDH_1SDV_20150222T170725_20150222T170750_004739_005DD8_CEAB.zip', '/Users/markuszehner/PycharmProjects/pyroSAR/pyroSAR/tests/data/S1A_IW_GRDH_1SDV_20150222T170750_20150222T170815_004739_005DD8_3768.zip'] \n",
      "\n",
      "Select from data scenes registered with intersecting bounding box of scene 1\n",
      "['/Users/markuszehner/PycharmProjects/pyroSAR/pyroSAR/tests/data/S1A_IW_GRDH_1SDV_20150222T170725_20150222T170750_004739_005DD8_CEAB.zip', '/Users/markuszehner/PycharmProjects/pyroSAR/pyroSAR/tests/data/S1A_IW_GRDH_1SDV_20150222T170750_20150222T170815_004739_005DD8_3768.zip'] \n",
      "\n",
      "Select from data scenes registered with polarization \"VV\" and aquisition mode \"IW\" or \"EW\"\n",
      "['/Users/markuszehner/PycharmProjects/pyroSAR/pyroSAR/tests/data/S1A_IW_GRDH_1SDV_20150222T170725_20150222T170750_004739_005DD8_CEAB.zip', '/Users/markuszehner/PycharmProjects/pyroSAR/pyroSAR/tests/data/S1A_IW_GRDH_1SDV_20150222T170750_20150222T170815_004739_005DD8_3768.zip'] \n",
      "\n",
      "Get size of the database (nr. of columns in tables data and duplicates)\n",
      "checking for missing scenes..done\n",
      "(2, 0) \n",
      "\n",
      "Get nr. of features in the exported shapefile (=nr. of scenes in table data)\n",
      "2 \n",
      "\n",
      "Database dropped\n"
     ]
    }
   ],
   "source": [
    "\n",
    "print('The warnings above are created by the drop_database function.')\n",
    "\n",
    "\n",
    "# Find all Scenes in a given directory (used the test files, which only contain metadata)\n",
    "archive_s1 = 'pyroSAR/tests/data/'\n",
    "scenes_s1 = finder(archive_s1, [r'^S1[AB].*\\.zip'], regex=True, recursive=False)\n",
    "id = identify(scenes_s1[0])\n",
    "\n",
    "print('Create a Spatialite archive at the given directory')\n",
    "db = Archive(dbfile='testjup', postgres=True, port = 8080)\n",
    "\n",
    "print('Insert the testscenes')\n",
    "db.insert(scenes_s1)\n",
    "\n",
    "print('Get tablenames from the database')\n",
    "print(db.get_tablenames(), '\\n')\n",
    "\n",
    "print('Get columnnames from the data table')\n",
    "print(db.get_colnames(), '\\n')\n",
    "\n",
    "print('Check if first scene is registered in the database')\n",
    "print(db.is_registered(scenes_s1[0]), '\\n')\n",
    "\n",
    "print('Get all unique directories within the database')\n",
    "print(db.get_unique_directories(), '\\n')\n",
    "\n",
    "print('Get all duplicates registered within the database (none)')\n",
    "print(db.select_duplicates(), '\\n')\n",
    "\n",
    "print('Select from duplicates registered within the database (none)')\n",
    "print(db.select_duplicates(outname_base='S1A__IW___A_20150222T170750', scene='scene.zip'), '\\n')\n",
    "\n",
    "print('Select from data scenes registered within 01.01.2014 - 01.01.2020')\n",
    "print(db.select(mindate='20141001T192312', maxdate='20201001T192312'), '\\n')\n",
    "\n",
    "print('Select from data scenes registered with polarization \"VV\"')\n",
    "print(db.select(polarizations=['VV']), '\\n')\n",
    "\n",
    "print('Select from data scenes registered with intersecting bounding box of scene 1')\n",
    "print(db.select(vectorobject=id.bbox()), '\\n')\n",
    "\n",
    "print('Select from data scenes registered with polarization \"VV\" and aquisition mode \"IW\" or \"EW\"')\n",
    "out = db.select(vv=1, acquisition_mode=('IW', 'EW'))\n",
    "print(out, '\\n')\n",
    "\n",
    "print('Get size of the database (nr. of columns in tables data and duplicates)')\n",
    "with Archive(dbfile='testjup', postgres=True, port = 8080) as db:\n",
    "    print(db.size, '\\n')\n",
    "    shp = 'pyroSAR/tests/data/db.shp'\n",
    "    db.export2shp(shp)\n",
    "    \n",
    "print('Get nr. of features in the exported shapefile (=nr. of scenes in table data)')\n",
    "print(Vector(shp).nfeatures, '\\n')\n",
    "db.drop_database()"
   ]
  },
  {
   "cell_type": "code",
   "execution_count": null,
   "metadata": {},
   "outputs": [],
   "source": []
  }
 ],
 "metadata": {
  "kernelspec": {
   "display_name": "Python 3",
   "language": "python",
   "name": "python3"
  },
  "language_info": {
   "codemirror_mode": {
    "name": "ipython",
    "version": 3
   },
   "file_extension": ".py",
   "mimetype": "text/x-python",
   "name": "python",
   "nbconvert_exporter": "python",
   "pygments_lexer": "ipython3",
   "version": "3.7.6"
  }
 },
 "nbformat": 4,
 "nbformat_minor": 4
}
